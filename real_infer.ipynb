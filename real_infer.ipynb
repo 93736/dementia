{
 "cells": [
  {
   "cell_type": "code",
   "execution_count": 146,
   "metadata": {
    "scrolled": true
   },
   "outputs": [
    {
     "data": {
      "text/html": [
       "<script>jQuery(function() {if (jQuery(\"body.notebook_app\").length == 0) { jQuery(\".input_area\").toggle(); jQuery(\".prompt\").toggle();}});</script>"
      ]
     },
     "metadata": {},
     "output_type": "display_data"
    },
    {
     "data": {
      "text/html": [
       "<button onclick=\"jQuery('.input_area').toggle(); jQuery('.prompt').toggle();\">Toggle code</button>"
      ]
     },
     "metadata": {},
     "output_type": "display_data"
    }
   ],
   "source": [
    "from IPython.display import display\n",
    "from IPython.display import HTML\n",
    "import IPython.core.display as di # Example: di.display_html('<h3>%s:</h3>' % str, raw=True)\n",
    "\n",
    "# This line will hide code by default when the notebook is exported as HTML\n",
    "di.display_html('<script>jQuery(function() {if (jQuery(\"body.notebook_app\").length == 0) { jQuery(\".input_area\").toggle(); jQuery(\".prompt\").toggle();}});</script>', raw=True)\n",
    "\n",
    "# This line will add a button to toggle visibility of code blocks, for use with the HTML export version\n",
    "di.display_html('''<button onclick=\"jQuery('.input_area').toggle(); jQuery('.prompt').toggle();\">Toggle code</button>''', raw=True)"
   ]
  },
  {
   "cell_type": "code",
   "execution_count": 147,
   "metadata": {},
   "outputs": [],
   "source": [
    "import ipywidgets as widgets\n",
    "from IPython.display import display\n",
    "import pandas as pd\n",
    "from IPython.display import Markdown, display\n",
    "   \n",
    "\n"
   ]
  },
  {
   "cell_type": "code",
   "execution_count": 148,
   "metadata": {},
   "outputs": [
    {
     "data": {
      "text/html": [
       "<h1 style=\"color:blue\">DEMENTIA DETECTION</h1><br>"
      ],
      "text/plain": [
       "<IPython.core.display.HTML object>"
      ]
     },
     "metadata": {},
     "output_type": "display_data"
    },
    {
     "data": {
      "text/html": [
       "<h3>NAME:</h3>"
      ],
      "text/plain": [
       "<IPython.core.display.HTML object>"
      ]
     },
     "metadata": {},
     "output_type": "display_data"
    },
    {
     "data": {
      "application/vnd.jupyter.widget-view+json": {
       "model_id": "d3078b220b1841e6830f2fe75c58e20a",
       "version_major": 2,
       "version_minor": 0
      },
      "text/plain": [
       "Text(value=u'NAME', placeholder=u'NAME')"
      ]
     },
     "metadata": {},
     "output_type": "display_data"
    },
    {
     "data": {
      "text/html": [
       "<h3>GENDER:</h3>"
      ],
      "text/plain": [
       "<IPython.core.display.HTML object>"
      ]
     },
     "metadata": {},
     "output_type": "display_data"
    },
    {
     "data": {
      "application/vnd.jupyter.widget-view+json": {
       "model_id": "820a83185f544e21ac95287498cf0ccf",
       "version_major": 2,
       "version_minor": 0
      },
      "text/plain": [
       "RadioButtons(options=('MALE', 'FEMALE'), value='MALE')"
      ]
     },
     "metadata": {},
     "output_type": "display_data"
    },
    {
     "data": {
      "text/html": [
       "<h3>AGE:</h3>"
      ],
      "text/plain": [
       "<IPython.core.display.HTML object>"
      ]
     },
     "metadata": {},
     "output_type": "display_data"
    },
    {
     "data": {
      "application/vnd.jupyter.widget-view+json": {
       "model_id": "58cbf41436334dd39b5b84862d9d133d",
       "version_major": 2,
       "version_minor": 0
      },
      "text/plain": [
       "FloatText(value=0.0)"
      ]
     },
     "metadata": {},
     "output_type": "display_data"
    },
    {
     "data": {
      "text/html": [
       "<h3>EDUC:</h3>"
      ],
      "text/plain": [
       "<IPython.core.display.HTML object>"
      ]
     },
     "metadata": {},
     "output_type": "display_data"
    },
    {
     "data": {
      "application/vnd.jupyter.widget-view+json": {
       "model_id": "9ee7511d874a49d5ba028a696563daa9",
       "version_major": 2,
       "version_minor": 0
      },
      "text/plain": [
       "FloatText(value=0.0)"
      ]
     },
     "metadata": {},
     "output_type": "display_data"
    },
    {
     "data": {
      "text/html": [
       "<h3>SES:</h3>"
      ],
      "text/plain": [
       "<IPython.core.display.HTML object>"
      ]
     },
     "metadata": {},
     "output_type": "display_data"
    },
    {
     "data": {
      "application/vnd.jupyter.widget-view+json": {
       "model_id": "564498905470435abf5d45cda53c2446",
       "version_major": 2,
       "version_minor": 0
      },
      "text/plain": [
       "FloatText(value=0.0)"
      ]
     },
     "metadata": {},
     "output_type": "display_data"
    },
    {
     "data": {
      "text/html": [
       "<h3>MMSE:</h3>"
      ],
      "text/plain": [
       "<IPython.core.display.HTML object>"
      ]
     },
     "metadata": {},
     "output_type": "display_data"
    },
    {
     "data": {
      "application/vnd.jupyter.widget-view+json": {
       "model_id": "45b822ad9ced4478aebe3fad44cd1617",
       "version_major": 2,
       "version_minor": 0
      },
      "text/plain": [
       "FloatText(value=0.0)"
      ]
     },
     "metadata": {},
     "output_type": "display_data"
    },
    {
     "data": {
      "text/html": [
       "<h3>eTIV:</h3>"
      ],
      "text/plain": [
       "<IPython.core.display.HTML object>"
      ]
     },
     "metadata": {},
     "output_type": "display_data"
    },
    {
     "data": {
      "application/vnd.jupyter.widget-view+json": {
       "model_id": "e425b73a4b6a448ab3763fbc45a9153a",
       "version_major": 2,
       "version_minor": 0
      },
      "text/plain": [
       "FloatText(value=0.0)"
      ]
     },
     "metadata": {},
     "output_type": "display_data"
    },
    {
     "data": {
      "text/html": [
       "<h3>nWBV:</h3>"
      ],
      "text/plain": [
       "<IPython.core.display.HTML object>"
      ]
     },
     "metadata": {},
     "output_type": "display_data"
    },
    {
     "data": {
      "application/vnd.jupyter.widget-view+json": {
       "model_id": "1584e0f9e2294817a0ce34d7048869d8",
       "version_major": 2,
       "version_minor": 0
      },
      "text/plain": [
       "FloatText(value=0.0)"
      ]
     },
     "metadata": {},
     "output_type": "display_data"
    },
    {
     "data": {
      "text/html": [
       "<h3>ASF:</h3>"
      ],
      "text/plain": [
       "<IPython.core.display.HTML object>"
      ]
     },
     "metadata": {},
     "output_type": "display_data"
    },
    {
     "data": {
      "application/vnd.jupyter.widget-view+json": {
       "model_id": "1d2d97c5fe1c44d9984595dcf361450e",
       "version_major": 2,
       "version_minor": 0
      },
      "text/plain": [
       "FloatText(value=0.0)"
      ]
     },
     "metadata": {},
     "output_type": "display_data"
    },
    {
     "data": {
      "application/vnd.jupyter.widget-view+json": {
       "model_id": "63e2d4635cce4c8c9f0fe892ec93a580",
       "version_major": 2,
       "version_minor": 0
      },
      "text/plain": [
       "QnV0dG9uKGRlc2NyaXB0aW9uPXUnU3VtYml0JywgbGF5b3V0PUxheW91dChoZWlnaHQ9dSc0MHB4Jywgd2lkdGg9dScxMCUnKSwgc3R5bGU9QnV0dG9uU3R5bGUoYnV0dG9uX2NvbG9yPSdsaWfigKY=\n"
      ]
     },
     "metadata": {},
     "output_type": "display_data"
    }
   ],
   "source": [
    "from IPython.display import display, HTML\n",
    "from IPython.core.display import display, HTML\n",
    "from IPython.display import Markdown, display\n",
    "\n",
    "from ipywidgets import Layout, Button, Box\n",
    "display(HTML('<h1 style=\"color:blue\">DEMENTIA DETECTION</h1><br>'))\n",
    "\n",
    "\n",
    "def inference_display():\n",
    "    out = widgets.Output(layout={'border': '10px solid black'})\n",
    "    out\n",
    "    NAME=widgets.Text(\n",
    "        value='NAME',\n",
    "        placeholder='NAME',\n",
    "       \n",
    "        border='solid',\n",
    "       \n",
    "\n",
    "        disabled=False\n",
    "  \n",
    "    )\n",
    "  \n",
    "    display(HTML(\"<h3>NAME:</h3>\")) \n",
    "    display(NAME)   \n",
    "   \n",
    "\n",
    "\n",
    "    \n",
    "  \n",
    "    text1=widgets.RadioButtons(\n",
    "        options=['MALE', 'FEMALE'],\n",
    "    #     value='pineapple',\n",
    "        description='',\n",
    "       \n",
    "        disabled=False\n",
    "    )\n",
    "   \n",
    "    if text1.value =='Male':\n",
    "        gen=1\n",
    "        \n",
    "    else:\n",
    "        gen=0\n",
    "    text2=widgets.FloatText(\n",
    "            value=0,\n",
    "            description='',\n",
    "            disabled=False\n",
    "        )\n",
    "\n",
    "    text3=widgets.FloatText(\n",
    "                value=0,\n",
    "                description='',\n",
    "                disabled=False\n",
    "            )\n",
    "\n",
    "    text4=widgets.FloatText(\n",
    "            value=0,\n",
    "            description='',\n",
    "            disabled=False\n",
    "        )\n",
    "\n",
    "    text5=widgets.FloatText(\n",
    "            value=0,\n",
    "            description='',\n",
    "            disabled=False\n",
    "        )\n",
    "\n",
    "    text6=widgets.FloatText(\n",
    "            value=0,\n",
    "            description='',\n",
    "            disabled=False\n",
    "        )\n",
    "\n",
    "    text7=widgets.FloatText(\n",
    "            value=0,\n",
    "            description='',\n",
    "            disabled=False\n",
    "        )\n",
    "\n",
    "    text8=widgets.FloatText(\n",
    "            value=0,\n",
    "            description='',\n",
    "            disabled=False\n",
    "        )\n",
    "    display(HTML(\"<h3>GENDER:</h3>\"))   \n",
    "    display(text1)\n",
    "    display(HTML(\"<h3>AGE:</h3>\"))   \n",
    "    display(text2)\n",
    "    display(HTML(\"<h3>EDUC:</h3>\"))   \n",
    "    display(text3)\n",
    "    display(HTML(\"<h3>SES:</h3>\"))   \n",
    "    display(text4)\n",
    "    display(HTML(\"<h3>MMSE:</h3>\"))   \n",
    "    display(text5)\n",
    "    display(HTML(\"<h3>eTIV:</h3>\"))   \n",
    "    display(text6)\n",
    "    display(HTML(\"<h3>nWBV:</h3>\"))   \n",
    "    display(text7)\n",
    "    display(HTML(\"<h3>ASF:</h3>\"))   \n",
    "    display(text8) \n",
    "\n",
    "    btn=widgets.Button(description=\"Sumbit\")\n",
    "    btn.style.button_color = 'lightgreen'\n",
    "    btn.layout.width = '10%'\n",
    "    btn.layout.height = '40px'\n",
    "    btn.style.font_weight = 'Bold'\n",
    "\n",
    "    btn\n",
    "    display(btn)\n",
    "\n",
    "\n",
    "   # btn.on_click(infer)\n",
    "\n",
    "\n",
    "    def infer(b):\n",
    "        df = pd.read_csv('oasis_longitudinal.csv')\n",
    "\n",
    "    #print(\"Loading dataset\")\n",
    "\n",
    "    #fill null value with their column mean and median\n",
    "        df[\"SES\"].fillna(df[\"SES\"].median(), inplace=True)\n",
    "        df[\"MMSE\"].fillna(df[\"MMSE\"].mean(), inplace=True)\n",
    "\n",
    "\n",
    "\n",
    "\n",
    "        ex_df = df.loc[df['Visit'] == 1]\n",
    "\n",
    "\n",
    "        ex_df['Group'] = ex_df['Group'].replace(['Converted'], ['Demented'])\n",
    "        df['Group'] = df['Group'].replace(['Converted'], ['Demented'])\n",
    "\n",
    "\n",
    "    #convet the charecter data into numeric\n",
    "        group_map = {\"Demented\": 1, \"Nondemented\": 0}\n",
    "\n",
    "        df['Group'] = df['Group'].map(group_map)\n",
    "        df['M/F'] = df['M/F'].replace(['F','M'], [0,1])\n",
    "\n",
    "\n",
    "\n",
    "    # Encode columns into numeric\n",
    "        from sklearn.preprocessing import LabelEncoder\n",
    "        for column in df.columns:\n",
    "            le = LabelEncoder()\n",
    "            df[column] = le.fit_transform(df[column])\n",
    "\n",
    "        #print(df.head(5))\n",
    "        feature_col_names = [\"M/F\", \"Age\", \"EDUC\", \"SES\", \"MMSE\", \"eTIV\", \"nWBV\", \"ASF\"]\n",
    "        predicted_class_names = ['Group']\n",
    "\n",
    "        X = df[feature_col_names].values\n",
    "        y = df[predicted_class_names].values\n",
    "        from sklearn.model_selection import train_test_split\n",
    "        X_train, X_test, y_train, y_test = train_test_split(X, y, test_size=0.0)\n",
    "        from sklearn.ensemble import RandomForestClassifier  \n",
    "        rfc=RandomForestClassifier(criterion='gini',max_depth=8,max_features='auto',n_estimators=200)\n",
    "\n",
    "        param_grid = { \n",
    "            'n_estimators': [200],\n",
    "            'max_features': ['auto'],\n",
    "            'max_depth' : [4,5,6,7,8],\n",
    "            'criterion' :['gini']\n",
    "        }\n",
    "\n",
    "        #CV_rfc = GridSearchCV(estimator=rfc, param_grid=param_grid, cv= 5,scoring = 'roc_auc')\n",
    "        rfc.fit(X_train, y_train.ravel())\n",
    "        #print(\"Best parameters set found on development set:\")\n",
    "        #print(rfc.best_params_)\n",
    "\n",
    "\n",
    "        y_pred=rfc.predict([[gen,text2.value,text3.value,text4.value,text5.value,text6.value,text7.value,text8.value]])\n",
    "\n",
    "        if(y_pred ==1):\n",
    "            print(\"The patient is DEMENTED\")\n",
    "        else:\n",
    "            print(\"The patient is NON DEMENTED\")\n",
    "     \n",
    "        \n",
    "    btn.on_click(infer)\n",
    "\n",
    "   \n",
    "\n",
    "inference_display()\n",
    "\n",
    "\n"
   ]
  }
 ],
 "metadata": {
  "kernelspec": {
   "display_name": "Python 3",
   "language": "python",
   "name": "python3"
  },
  "language_info": {
   "codemirror_mode": {
    "name": "ipython",
    "version": 2
   },
   "file_extension": ".py",
   "mimetype": "text/x-python",
   "name": "python",
   "nbconvert_exporter": "python",
   "pygments_lexer": "ipython2",
   "version": "2.7.14"
  }
 },
 "nbformat": 4,
 "nbformat_minor": 2
}
