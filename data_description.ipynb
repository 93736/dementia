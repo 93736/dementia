{
 "cells": [
  {
   "cell_type": "code",
   "execution_count": 1,
   "metadata": {},
   "outputs": [
    {
     "data": {
      "text/html": [
       "<script>jQuery(function() {if (jQuery(\"body.notebook_app\").length == 0) { jQuery(\".input_area\").toggle(); jQuery(\".prompt\").toggle();}});</script>"
      ]
     },
     "metadata": {},
     "output_type": "display_data"
    },
    {
     "data": {
      "text/html": [
       "<button onclick=\"jQuery('.input_area').toggle(); jQuery('.prompt').toggle();\">Toggle code</button>"
      ]
     },
     "metadata": {},
     "output_type": "display_data"
    }
   ],
   "source": [
    "from IPython.display import display\n",
    "from IPython.display import HTML\n",
    "import IPython.core.display as di # Example: di.display_html('<h3>%s:</h3>' % str, raw=True)\n",
    "\n",
    "# This line will hide code by default when the notebook is exported as HTML\n",
    "di.display_html('<script>jQuery(function() {if (jQuery(\"body.notebook_app\").length == 0) { jQuery(\".input_area\").toggle(); jQuery(\".prompt\").toggle();}});</script>', raw=True)\n",
    "\n",
    "# This line will add a button to toggle visibility of code blocks, for use with the HTML export version\n",
    "di.display_html('''<button onclick=\"jQuery('.input_area').toggle(); jQuery('.prompt').toggle();\">Toggle code</button>''', raw=True)"
   ]
  },
  {
   "cell_type": "code",
   "execution_count": 2,
   "metadata": {},
   "outputs": [
    {
     "name": "stdout",
     "output_type": "stream",
     "text": [
      "Data Description\n",
      "\n",
      "\n",
      "\n",
      "FEATURES:\n",
      "<class 'pandas.core.frame.DataFrame'>\n",
      "RangeIndex: 373 entries, 0 to 372\n",
      "Data columns (total 15 columns):\n",
      "Subject ID    373 non-null object\n",
      "MRI ID        373 non-null object\n",
      "Group         373 non-null object\n",
      "Visit         373 non-null int64\n",
      "MR Delay      373 non-null int64\n",
      "M/F           373 non-null object\n",
      "Hand          373 non-null object\n",
      "Age           373 non-null int64\n",
      "EDUC          373 non-null int64\n",
      "SES           354 non-null float64\n",
      "MMSE          371 non-null float64\n",
      "CDR           373 non-null float64\n",
      "eTIV          373 non-null int64\n",
      "nWBV          373 non-null float64\n",
      "ASF           373 non-null float64\n",
      "dtypes: float64(5), int64(5), object(5)\n",
      "memory usage: 43.8+ KB\n",
      "None\n",
      "\n",
      "\n",
      "\n",
      "\n",
      "('Tota Rows and Columns (Rows,Columns) : ', (373, 15), '\\n\\n')\n",
      "First five dataset\n",
      "  Subject ID         MRI ID        Group  Visit  MR Delay M/F Hand  Age  EDUC  \\\n",
      "0  OAS2_0001  OAS2_0001_MR1  Nondemented      1         0   M    R   87    14   \n",
      "1  OAS2_0001  OAS2_0001_MR2  Nondemented      2       457   M    R   88    14   \n",
      "2  OAS2_0002  OAS2_0002_MR1     Demented      1         0   M    R   75    12   \n",
      "3  OAS2_0002  OAS2_0002_MR2     Demented      2       560   M    R   76    12   \n",
      "4  OAS2_0002  OAS2_0002_MR3     Demented      3      1895   M    R   80    12   \n",
      "\n",
      "   SES  MMSE  CDR  eTIV   nWBV    ASF  \n",
      "0  2.0  27.0  0.0  1987  0.696  0.883  \n",
      "1  2.0  30.0  0.0  2004  0.681  0.876  \n",
      "2  NaN  23.0  0.5  1678  0.736  1.046  \n",
      "3  NaN  28.0  0.5  1738  0.713  1.010  \n",
      "4  NaN  22.0  0.5  1698  0.701  1.034  \n",
      "\n",
      "\n",
      "\n",
      "\n",
      "DATA ANALYSIS:\n",
      "(            Visit     MR Delay         Age        EDUC         SES  \\\n",
      "count  373.000000   373.000000  373.000000  373.000000  354.000000   \n",
      "mean     1.882038   595.104558   77.013405   14.597855    2.460452   \n",
      "std      0.922843   635.485118    7.640957    2.876339    1.134005   \n",
      "min      1.000000     0.000000   60.000000    6.000000    1.000000   \n",
      "25%      1.000000     0.000000   71.000000   12.000000    2.000000   \n",
      "50%      2.000000   552.000000   77.000000   15.000000    2.000000   \n",
      "75%      2.000000   873.000000   82.000000   16.000000    3.000000   \n",
      "max      5.000000  2639.000000   98.000000   23.000000    5.000000   \n",
      "\n",
      "             MMSE         CDR         eTIV        nWBV         ASF  \n",
      "count  371.000000  373.000000   373.000000  373.000000  373.000000  \n",
      "mean    27.342318    0.290885  1488.128686    0.729568    1.195461  \n",
      "std      3.683244    0.374557   176.139286    0.037135    0.138092  \n",
      "min      4.000000    0.000000  1106.000000    0.644000    0.876000  \n",
      "25%     27.000000    0.000000  1357.000000    0.700000    1.099000  \n",
      "50%     29.000000    0.000000  1470.000000    0.729000    1.194000  \n",
      "75%     30.000000    0.500000  1597.000000    0.756000    1.293000  \n",
      "max     30.000000    2.000000  2004.000000    0.837000    1.587000  , '\\n\\n\\n')\n"
     ]
    }
   ],
   "source": [
    "from functions import describe_data,count_dementiated\n",
    "from functions import count_dementiated,describe_data,bar_chart,age_by_gender,cdr_by_gender,boxplots,plot_correlation_map,plot_confusion_metrix\n",
    "import pandas as pd\n",
    "import matplotlib.pyplot as plt\n",
    "\n",
    "\n",
    "def data_analysis():\n",
    "    df = pd.read_csv('/home/dell/Downloads/dementia/oasis_longitudinal.csv')\n",
    "    print(\"Data Description\\n\\n\\n\")\n",
    "    describe_data(df)\n",
    "\n",
    "\n",
    "    \n",
    "data_analysis()\n"
   ]
  },
  {
   "cell_type": "code",
   "execution_count": null,
   "metadata": {},
   "outputs": [],
   "source": []
  },
  {
   "cell_type": "code",
   "execution_count": null,
   "metadata": {},
   "outputs": [],
   "source": []
  }
 ],
 "metadata": {
  "kernelspec": {
   "display_name": "Python 3",
   "language": "python",
   "name": "python3"
  },
  "language_info": {
   "codemirror_mode": {
    "name": "ipython",
    "version": 2
   },
   "file_extension": ".py",
   "mimetype": "text/x-python",
   "name": "python",
   "nbconvert_exporter": "python",
   "pygments_lexer": "ipython2",
   "version": "2.7.14"
  },
  "widgets": {
   "application/vnd.jupyter.widget-state+json": {
    "state": {},
    "version_major": 2,
    "version_minor": 0
   }
  }
 },
 "nbformat": 4,
 "nbformat_minor": 2
}
